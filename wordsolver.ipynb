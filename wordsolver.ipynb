{
 "cells": [
  {
   "cell_type": "code",
   "execution_count": 34,
   "metadata": {
    "collapsed": false
   },
   "outputs": [
    {
     "name": "stdout",
     "output_type": "stream",
     "text": [
      "30\n",
      "corn\n",
      "--- 0.18499994278 seconds ---\n"
     ]
    }
   ],
   "source": [
    "import time\n",
    "start_time = time.time()\n",
    "file=open(\"output\")\n",
    "wlist = file.read().splitlines()\n",
    "file.close()\n",
    "\n",
    "#listok=[]\n",
    "\n",
    "scoreposs=[]\n",
    "amtletters=4\n",
    "for i in range(0,amtletters+1):\n",
    "    for j in range(0,amtletters+1-i):\n",
    "        if i!=1 or j!=amtletters-1:\n",
    "            scoreposs.append([i,j])\n",
    "\n",
    "#print (scoreposs)\n",
    "'''\n",
    "scoreposs=[\n",
    "    [0,0],[1,0],[2,0],[3,0],[4,0],[0,1],[0,2],[0,3],\n",
    "    [1,1],[1,2],[2,1]\n",
    "]'''\n",
    "minscore=len(wlist)\n",
    "minword=\"\"\n",
    "for trial in wlist:\n",
    "    maxscore=0\n",
    "    for poss in scoreposs:\n",
    "        hint=[]\n",
    "        hint.append(trial)\n",
    "        hint.extend(poss)\n",
    "        #print(hint)\n",
    "        \n",
    "        count=0\n",
    "        \n",
    "        for word in wlist:\n",
    "            plus1=0\n",
    "            plus2=0\n",
    "            unusedindexes=range(0,len(hint[0]))\n",
    "            '''for i in range(0,len(hint[0])):\n",
    "\n",
    "                if word[i]==hint[0][i]:\n",
    "                    plus2+=1\n",
    "                    try:\n",
    "                        unusedindexes.remove(i)\n",
    "                    except ValueError:\n",
    "                        pass\n",
    "                else:\n",
    "                    for j in range(0,len(hint[0])):\n",
    "                        if word[i]==hint[0][j] and j in unusedindexes:\n",
    "                            plus1+=1\n",
    "                            unusedindexes.remove(j)\n",
    "                            break'''\n",
    "            doublelooper=range(0,len(hint[0]))\n",
    "            for i in range(0,len(hint[0])):\n",
    "                if word[i]==hint[0][i]:\n",
    "                    plus2+=1\n",
    "                    try:\n",
    "                        unusedindexes.remove(i)\n",
    "                        doublelooper.remove(i)\n",
    "                    except ValueError:\n",
    "                        pass\n",
    "            for i in doublelooper:\n",
    "                #else:\n",
    "                for j in range(0,len(hint[0])):\n",
    "                    if word[i]==hint[0][j] and j in unusedindexes:\n",
    "                        plus1+=1\n",
    "                        unusedindexes.remove(j)\n",
    "                        break\n",
    "                            \n",
    "            \n",
    "            if plus1!=int(hint[1]) or plus2!=int(hint[2]):\n",
    "                pass        \n",
    "            else:\n",
    "                count+=1\n",
    "        \n",
    "        \n",
    "        #print(count)\n",
    "        if count>maxscore:\n",
    "            maxscore=count\n",
    "        \n",
    "        if count>=minscore:\n",
    "            #print(minscore)\n",
    "            break\n",
    "            \n",
    "    #print(maxscore)\n",
    "    if maxscore<minscore:\n",
    "        minscore=maxscore\n",
    "        minword=trial\n",
    "        #listok.append(word)\n",
    "            \n",
    "#print (listok)\n",
    "#print (len(listok))\n",
    "print(minscore)\n",
    "print(minword)\n",
    "print(\"--- %s seconds ---\" % (time.time() - start_time))"
   ]
  },
  {
   "cell_type": "code",
   "execution_count": null,
   "metadata": {
    "collapsed": true
   },
   "outputs": [],
   "source": []
  },
  {
   "cell_type": "code",
   "execution_count": null,
   "metadata": {
    "collapsed": true
   },
   "outputs": [],
   "source": []
  }
 ],
 "metadata": {
  "kernelspec": {
   "display_name": "Python 2",
   "language": "python",
   "name": "python2"
  },
  "language_info": {
   "codemirror_mode": {
    "name": "ipython",
    "version": 2
   },
   "file_extension": ".py",
   "mimetype": "text/x-python",
   "name": "python",
   "nbconvert_exporter": "python",
   "pygments_lexer": "ipython2",
   "version": "2.7.13"
  }
 },
 "nbformat": 4,
 "nbformat_minor": 2
}
