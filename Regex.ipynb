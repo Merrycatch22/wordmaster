{
 "cells": [
  {
   "cell_type": "code",
   "execution_count": 5,
   "metadata": {
    "collapsed": false
   },
   "outputs": [
    {
     "name": "stdout",
     "output_type": "stream",
     "text": [
      "[(0, 'j'), (0, 'q'), (2, 'v'), (8, 'c'), (12, 'z'), (14, 'u'), (18, 'x'), (30, 'i'), (38, 'w'), (39, 'b'), (45, 'f'), (52, 'o'), (53, 'g'), (64, 'h'), (67, 'a'), (77, 'm'), (84, 'r'), (94, 'p'), (111, 'y'), (117, 'n'), (129, 'l'), (140, 'k'), (153, 'd'), (223, 't'), (344, 'e'), (490, 's')]\n"
     ]
    }
   ],
   "source": [
    "import re\n",
    "file = open(\"words\")\n",
    "wlist = file.read().splitlines()\n",
    "letters='abcdefghijklmnopqrstuvwxyz'\n",
    "max=0\n",
    "maxchar=''\n",
    "tuples=[]\n",
    "for char in letters:\n",
    "    prog = re.compile('^...'+char+'$')\n",
    "    count=0\n",
    "    for word in wlist:\n",
    "        if prog.match(word):\n",
    "            count+=1\n",
    "    tuples.append ((count,char))\n",
    "tuples=sorted(tuples, key=lambda x: x[0])\n",
    "print(tuples)"
   ]
  },
  {
   "cell_type": "code",
   "execution_count": 4,
   "metadata": {
    "collapsed": false
   },
   "outputs": [
    {
     "name": "stdout",
     "output_type": "stream",
     "text": [
      "[(103, 'a'), (170, 'b'), (146, 'c'), (140, 'd'), (59, 'e'), (118, 'f'), (112, 'g'), (116, 'h'), (35, 'i'), (48, 'j'), (40, 'k'), (140, 'l'), (120, 'm'), (51, 'n'), (59, 'o'), (158, 'p'), (7, 'q'), (126, 'r'), (230, 's'), (152, 't'), (19, 'u'), (43, 'v'), (115, 'w'), (2, 'x'), (63, 'y'), (32, 'z')]\n"
     ]
    }
   ],
   "source": []
  },
  {
   "cell_type": "code",
   "execution_count": null,
   "metadata": {
    "collapsed": true
   },
   "outputs": [],
   "source": []
  }
 ],
 "metadata": {
  "kernelspec": {
   "display_name": "Python 2",
   "language": "python",
   "name": "python2"
  },
  "language_info": {
   "codemirror_mode": {
    "name": "ipython",
    "version": 2
   },
   "file_extension": ".py",
   "mimetype": "text/x-python",
   "name": "python",
   "nbconvert_exporter": "python",
   "pygments_lexer": "ipython2",
   "version": "2.7.13"
  }
 },
 "nbformat": 4,
 "nbformat_minor": 2
}
