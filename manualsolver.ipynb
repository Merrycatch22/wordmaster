{
 "cells": [
  {
   "cell_type": "code",
   "execution_count": 1,
   "metadata": {
    "collapsed": false,
    "scrolled": false
   },
   "outputs": [
    {
     "name": "stdout",
     "output_type": "stream",
     "text": [
      "21\n",
      "['ebbs', 'emir', 'ergo', 'ergs', 'eros', 'jibe', 'oboe', 'ride', 'rime', 'ripe', 'rise', 'rive', 'rode', 'rope', 'rose', 'roue', 'rove', 'rude', 'ruse', 'urge', 'vibe']\n",
      "--- 0.039999961853 seconds ---\n"
     ]
    }
   ],
   "source": [
    "import time\n",
    "start_time = time.time()\n",
    "\n",
    "wlist = open(\"words4\").read().splitlines()\n",
    "hintlines=open(\"hints\").read().splitlines()\n",
    "hintlist=[]\n",
    "for line in hintlines:\n",
    "    hintlist.append(line.split(','))\n",
    "#wlist=[\"twelve\"]\n",
    "#hintlist=[[\"golden\",0,2]]\n",
    "listok=[]\n",
    "for word in wlist:\n",
    "    flag=True\n",
    "    for hint in hintlist:\n",
    "        plus1=0\n",
    "        plus2=0\n",
    "        unusedindexes=range(0,len(hint[0]))\n",
    "        doublelooper=range(0,len(hint[0]))\n",
    "        for i in range(0,len(hint[0])):\n",
    "            if word[i]==hint[0][i]:\n",
    "                plus2+=1\n",
    "                try:\n",
    "                    unusedindexes.remove(i)\n",
    "                    doublelooper.remove(i)\n",
    "                except ValueError:\n",
    "                    pass\n",
    "        for i in doublelooper:\n",
    "            #else:\n",
    "                for j in range(0,len(hint[0])):\n",
    "                    if word[i]==hint[0][j] and j in unusedindexes:\n",
    "                        plus1+=1\n",
    "                        unusedindexes.remove(j)\n",
    "                        break\n",
    "        #print(plus1,plus2)                \n",
    "        if plus1!=int(hint[1]) or plus2!=int(hint[2]):\n",
    "            flag=False\n",
    "            break\n",
    "    if flag:\n",
    "        listok.append(word)\n",
    "\n",
    "print (len(listok))        \n",
    "print (listok)\n",
    "\n",
    "\n",
    "output=open('output','w')\n",
    "for word in listok:\n",
    "    output.write(word+\"\\n\")\n",
    "output.close()\n",
    "\n",
    "print(\"--- %s seconds ---\" % (time.time() - start_time))"
   ]
  },
  {
   "cell_type": "code",
   "execution_count": null,
   "metadata": {
    "collapsed": true
   },
   "outputs": [],
   "source": []
  },
  {
   "cell_type": "code",
   "execution_count": null,
   "metadata": {
    "collapsed": true
   },
   "outputs": [],
   "source": []
  },
  {
   "cell_type": "code",
   "execution_count": null,
   "metadata": {
    "collapsed": true
   },
   "outputs": [],
   "source": []
  }
 ],
 "metadata": {
  "kernelspec": {
   "display_name": "Python 2",
   "language": "python",
   "name": "python2"
  },
  "language_info": {
   "codemirror_mode": {
    "name": "ipython",
    "version": 2
   },
   "file_extension": ".py",
   "mimetype": "text/x-python",
   "name": "python",
   "nbconvert_exporter": "python",
   "pygments_lexer": "ipython2",
   "version": "2.7.13"
  }
 },
 "nbformat": 4,
 "nbformat_minor": 2
}
